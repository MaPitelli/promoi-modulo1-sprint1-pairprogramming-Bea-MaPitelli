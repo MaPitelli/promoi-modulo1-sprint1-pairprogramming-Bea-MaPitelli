{
 "cells": [
  {
   "cell_type": "markdown",
   "metadata": {},
   "source": [
    "## Ejercicios diccionarios\n",
    "1. Crear un diccionario vacío\n",
    "\n",
    "- Descripción: Crea un diccionario vacío sin ningún par clave-valor."
   ]
  },
  {
   "cell_type": "code",
   "execution_count": null,
   "metadata": {},
   "outputs": [],
   "source": []
  },
  {
   "cell_type": "markdown",
   "metadata": {},
   "source": [
    "\n",
    "2. Crear un diccionario con elementos\n",
    "\n",
    "- Descripción: Crea un diccionario con pares clave-valor predefinidos. Definir el diccionario con las claves y valores que querais. \n",
    " **NOTA** El diccionario debe tener al menos 5 pares de clave:valor."
   ]
  },
  {
   "cell_type": "code",
   "execution_count": null,
   "metadata": {},
   "outputs": [],
   "source": []
  },
  {
   "cell_type": "markdown",
   "metadata": {},
   "source": [
    "\n",
    "3. Acceder al valor de una clave en un diccionario\n",
    "\n",
    "- Descripción: Usando el diccionario creado en el paso anterior, obtén el valor correspondiente a una clave específica que indique el usuario (debereis usar la función input() para preguntar al usuario)."
   ]
  },
  {
   "cell_type": "code",
   "execution_count": null,
   "metadata": {},
   "outputs": [],
   "source": []
  },
  {
   "cell_type": "markdown",
   "metadata": {},
   "source": [
    "\n",
    "4. Agregar un nuevo par clave-valor a un diccionario\n",
    "\n",
    "- Descripción: Usando el diccionario creado en el ejercicio 2, agrega un nuevo par clave-valor."
   ]
  },
  {
   "cell_type": "code",
   "execution_count": null,
   "metadata": {},
   "outputs": [],
   "source": []
  },
  {
   "cell_type": "markdown",
   "metadata": {},
   "source": [
    "\n",
    "5. Actualizar el valor de una clave en un diccionario\n",
    "\n",
    "- Descripción: Usando el diccionario creado en el ejercicio 2, actualiza el valor correspondiente a una clave existente. Ejemplo:"
   ]
  },
  {
   "cell_type": "code",
   "execution_count": null,
   "metadata": {},
   "outputs": [],
   "source": [
    "# dado el siguiente diccionario\n",
    "{'nombre': 'Ana', 'edad': 25, 'ciudad': 'Madrid', 'hijos': 1}\n",
    "\n",
    "# el ouptut esperado es: (ha cambiado el valor de la clave edad)\n",
    "{'nombre': 'Ana', 'edad': 40, 'ciudad': 'Madrid', 'hijos': 1}"
   ]
  },
  {
   "cell_type": "code",
   "execution_count": null,
   "metadata": {},
   "outputs": [],
   "source": []
  },
  {
   "cell_type": "markdown",
   "metadata": {},
   "source": [
    "\n",
    "6. Eliminar un par clave-valor de un diccionario\n",
    "\n",
    "- Descripción: Usando el diccionario creado en el ejercicio 2, elimina un par clave-valor específico que indique el usuario (debereis usar la función input() para preguntar al usuario)."
   ]
  },
  {
   "cell_type": "code",
   "execution_count": null,
   "metadata": {},
   "outputs": [],
   "source": []
  },
  {
   "cell_type": "markdown",
   "metadata": {},
   "source": [
    "\n",
    "7. Verificar si una clave está presente en un diccionario\n",
    "\n",
    "- Descripción: Usando el diccionario creado en el ejercicio 2, verifica si una clave específica está presente en él. La clave a buscar debe ser pasada por el usuario, debereis usar un input()."
   ]
  },
  {
   "cell_type": "code",
   "execution_count": null,
   "metadata": {},
   "outputs": [],
   "source": []
  },
  {
   "cell_type": "markdown",
   "metadata": {},
   "source": [
    "8. Obtener una lista de todas las claves de un diccionario\n",
    "\n",
    "- Descripción: Usando el diccionario creado en el ejercicio 2, obtén una lista con todas las claves que contiene."
   ]
  },
  {
   "cell_type": "code",
   "execution_count": null,
   "metadata": {},
   "outputs": [],
   "source": []
  },
  {
   "cell_type": "markdown",
   "metadata": {},
   "source": [
    "\n",
    "9. Obtener una lista de todos los valores de un diccionario\n",
    "\n",
    "- Descripción: Usando el diccionario creado en el ejercicio 2, obtén una lista con todos los valores que contiene."
   ]
  },
  {
   "cell_type": "code",
   "execution_count": null,
   "metadata": {},
   "outputs": [],
   "source": []
  },
  {
   "cell_type": "markdown",
   "metadata": {},
   "source": [
    "\n",
    "10. Utilizar el método setdefault() para establecer un valor predeterminado si la clave no existe\n",
    "\n",
    "- Descripción: Usando el diccionario creado en el ejercicio 2, obten el valor correspondiente a una clave. Si la clave no existe, establece un valor predeterminado y devuelve dicho valor."
   ]
  },
  {
   "cell_type": "code",
   "execution_count": null,
   "metadata": {},
   "outputs": [],
   "source": []
  },
  {
   "cell_type": "markdown",
   "metadata": {},
   "source": [
    "\n",
    "11. Manipulación de un diccionario utilizando pop() y popitem()\n",
    "\n",
    "- Descripción: Usando el diccionario creado en el ejercicio 2, realiza operaciones de eliminación utilizando pop() y popitem(), y observa cómo afectan al diccionario."
   ]
  },
  {
   "cell_type": "code",
   "execution_count": null,
   "metadata": {},
   "outputs": [],
   "source": []
  },
  {
   "cell_type": "markdown",
   "metadata": {},
   "source": [
    "## Ejercicios sets\n",
    "1. Crear un conjunto vacío\n",
    "\n",
    "- Descripción: Crea un conjunto vacío sin ningún elemento."
   ]
  },
  {
   "cell_type": "code",
   "execution_count": null,
   "metadata": {},
   "outputs": [],
   "source": []
  },
  {
   "cell_type": "markdown",
   "metadata": {},
   "source": [
    "\n",
    "2. Crear un conjunto con elementos\n",
    "\n",
    "- Descripción: Crea un conjunto con elementos predefinidos."
   ]
  },
  {
   "cell_type": "code",
   "execution_count": null,
   "metadata": {},
   "outputs": [],
   "source": []
  },
  {
   "cell_type": "markdown",
   "metadata": {},
   "source": [
    "3. Agregar elementos a un conjunto\n",
    "\n",
    "- Descripción: Usando el set creado en el ejercicio 2, agrega nuevos elementos. Debereis agregar por separado:\n",
    "\n",
    "    - Un elemento solo\n",
    "\n",
    "    - Un par de elementos a la vez."
   ]
  },
  {
   "cell_type": "code",
   "execution_count": null,
   "metadata": {},
   "outputs": [],
   "source": []
  },
  {
   "cell_type": "markdown",
   "metadata": {},
   "source": [
    "\n",
    "4. Eliminar un elemento de un conjunto\n",
    "\n",
    "- Descripción: Usando el set creado en el ejercicio 2, elimina un elemento especificado por el usuario."
   ]
  },
  {
   "cell_type": "code",
   "execution_count": null,
   "metadata": {},
   "outputs": [],
   "source": []
  },
  {
   "cell_type": "markdown",
   "metadata": {},
   "source": [
    "\n",
    "5. Verificar la pertenencia de un elemento en un conjunto\n",
    "\n",
    "- Descripción: Usando el set creado en el ejercicio 2, verifica si un elemento específico está presente en él."
   ]
  },
  {
   "cell_type": "code",
   "execution_count": null,
   "metadata": {},
   "outputs": [],
   "source": []
  },
  {
   "cell_type": "markdown",
   "metadata": {},
   "source": [
    "6. Realizar una unión de conjuntos\n",
    "\n",
    "- Descripción: Dados dos conjuntos, realiza una unión de ellos."
   ]
  },
  {
   "cell_type": "code",
   "execution_count": null,
   "metadata": {},
   "outputs": [],
   "source": []
  },
  {
   "cell_type": "markdown",
   "metadata": {},
   "source": [
    "\n",
    "7. Realizar una intersección de conjuntos\n",
    "\n",
    "- Descripción: Usando dos conjuntos de datos definidos en el ejercicio anterior, realiza una intersección de ellos."
   ]
  },
  {
   "cell_type": "code",
   "execution_count": null,
   "metadata": {},
   "outputs": [],
   "source": []
  },
  {
   "cell_type": "markdown",
   "metadata": {},
   "source": [
    "8. Realizar una diferencia de conjuntos\n",
    "\n",
    "- Descripción: Usando dos conjuntos de datos definidos en el ejercicio anterior, realiza una diferencia entre ellos."
   ]
  },
  {
   "cell_type": "code",
   "execution_count": null,
   "metadata": {},
   "outputs": [],
   "source": []
  },
  {
   "cell_type": "markdown",
   "metadata": {},
   "source": [
    "9. Verificar si un conjunto es subconjunto de otro\n",
    "\n",
    "- Descripción: Dados dos conjuntos, verifica si uno es subconjunto del otro."
   ]
  },
  {
   "cell_type": "code",
   "execution_count": null,
   "metadata": {},
   "outputs": [],
   "source": []
  }
 ],
 "metadata": {
  "language_info": {
   "name": "python"
  }
 },
 "nbformat": 4,
 "nbformat_minor": 2
}
