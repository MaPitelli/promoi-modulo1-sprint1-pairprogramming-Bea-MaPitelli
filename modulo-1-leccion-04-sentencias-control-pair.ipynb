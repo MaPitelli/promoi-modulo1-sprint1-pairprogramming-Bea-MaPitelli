{
 "cells": [
  {
   "cell_type": "markdown",
   "metadata": {},
   "source": [
    "## Ejercicios if-else\n",
    "\n",
    "1. Verificar si un número es positivo, negativo o cero\n",
    "\n",
    "- **Descripción:** Dado un número, verifica si es positivo, negativo o cero."
   ]
  },
  {
   "cell_type": "code",
   "execution_count": 5,
   "metadata": {},
   "outputs": [
    {
     "name": "stdout",
     "output_type": "stream",
     "text": [
      "El numero es positivo.\n"
     ]
    }
   ],
   "source": [
    "num = 2\n",
    "\n",
    "if num > 0:\n",
    "    print(\"El numero es positivo.\")\n",
    "elif num < 0:\n",
    "    print(\"El numero es negativo.\")\n",
    "else:\n",
    "    print(\"El numero es igual a cero.\")\n"
   ]
  },
  {
   "cell_type": "markdown",
   "metadata": {},
   "source": [
    "2. Verificar si un número es par o impar\n",
    "\n",
    "- **Descripción:** Dado un número, verifica si es par o impar."
   ]
  },
  {
   "cell_type": "code",
   "execution_count": 9,
   "metadata": {},
   "outputs": [
    {
     "name": "stdout",
     "output_type": "stream",
     "text": [
      "Es impar.\n"
     ]
    }
   ],
   "source": [
    "numero = 35679\n",
    "\n",
    "if numero % 2 == 0:\n",
    "    print(\"Es par.\") \n",
    "else:\n",
    "    print(\"Es impar.\")"
   ]
  },
  {
   "cell_type": "markdown",
   "metadata": {},
   "source": [
    "3. Verificar si un estudiante aprobó o suspendió un examen\n",
    "\n",
    "- **Descripción:** Dada la calificación de un estudiante en un examen, verifica si aprobó o suspendió (si la calificación es mayor o igual a 60 se considera aprobado)."
   ]
  },
  {
   "cell_type": "code",
   "execution_count": 14,
   "metadata": {},
   "outputs": [
    {
     "name": "stdout",
     "output_type": "stream",
     "text": [
      "Has suspendido.\n"
     ]
    }
   ],
   "source": [
    "nota = 59.99999999\n",
    "\n",
    "if nota >= 60:\n",
    "    print(\"Has aprobado.\")\n",
    "else:\n",
    "    print(\"Has suspendido.\")"
   ]
  },
  {
   "cell_type": "markdown",
   "metadata": {},
   "source": [
    "4. Calcular el máximo entre dos números\n",
    "\n",
    "- **Descripción:** Dados dos números, encuentra el máximo entre ellos."
   ]
  },
  {
   "cell_type": "code",
   "execution_count": 16,
   "metadata": {},
   "outputs": [
    {
     "name": "stdout",
     "output_type": "stream",
     "text": [
      "Es mayor el 490 que el 75.\n"
     ]
    }
   ],
   "source": [
    "num1 = 490\n",
    "num2 = 75\n",
    "\n",
    "if num1 > num2:\n",
    "    print(f\"Es mayor el {num1} que el {num2}.\")\n",
    "else:\n",
    "    print(f\"Es mayor el {num2} que el {num1}.\")\n"
   ]
  },
  {
   "cell_type": "markdown",
   "metadata": {},
   "source": [
    "5. Verificar si una letra es una vocal o una consonante\n",
    "\n",
    "- **Descripción:** Dada una letra, verifica si es una vocal o una consonante."
   ]
  },
  {
   "cell_type": "code",
   "execution_count": 19,
   "metadata": {},
   "outputs": [
    {
     "name": "stdout",
     "output_type": "stream",
     "text": [
      "Es una vocal.\n"
     ]
    }
   ],
   "source": [
    "letra = \"u\"\n",
    "vocales = \"aeiou\"\n",
    "\n",
    "if letra in vocales:\n",
    "    print(\"Es una vocal.\")\n",
    "else:\n",
    "    print(\"Es una consonante.\")"
   ]
  },
  {
   "cell_type": "markdown",
   "metadata": {},
   "source": [
    "6. Calcular el descuento en una compra según el monto total\n",
    "\n",
    "- **Descripción:** Dado el monto total de una compra, calcula el descuento aplicado según las siguientes condiciones: si el monto es mayor o igual a $100, aplica un descuento del 10%; de lo contrario, no aplica ningún descuento."
   ]
  },
  {
   "cell_type": "code",
   "execution_count": 25,
   "metadata": {},
   "outputs": [
    {
     "name": "stdout",
     "output_type": "stream",
     "text": [
      "Se le aplica el descuento del 10%. Se le rebaja 15.0$ del total. El total es 135.0.\n"
     ]
    }
   ],
   "source": [
    "compra = 150\n",
    "\n",
    "if compra >= 100:\n",
    "    descuento = compra * 0.10\n",
    "    print(f\"Se le aplica el descuento del 10%. Se le rebaja {descuento}$ del total. El total es {compra - descuento}.\")\n",
    "else:\n",
    "    print(f\"No tiene descuento. Su compra es de {compra}$.\")"
   ]
  },
  {
   "cell_type": "markdown",
   "metadata": {},
   "source": [
    "7. Verificar si un año es bisiesto o no\n",
    "\n",
    "- **Descripción:** Dado un año, verifica si es bisiesto o no (un año es bisiesto si es divisible entre 4, excepto aquellos divisibles entre 100 pero no entre 400)."
   ]
  },
  {
   "cell_type": "code",
   "execution_count": 32,
   "metadata": {},
   "outputs": [
    {
     "name": "stdout",
     "output_type": "stream",
     "text": [
      "El 2023 no es bisiesto.\n"
     ]
    }
   ],
   "source": [
    "ano = 2023       # Hemos quedado con duda con las condiciones que hay que complir aquí o no. Es mas un tema interpretativo.\n",
    "\n",
    "if ano % 4 == 0:\n",
    "    print(f\"El {ano} es bisiesto.\")\n",
    "elif ano % 4 == 0 and ano % 100 != 0:\n",
    "    print(f\"El {ano} es bisiesto.\")\n",
    "elif ano % 100 == 0 and ano % 400 != 0:\n",
    "    print(f\"El {ano} no es bisiesto.\")\n",
    "elif ano % 400 == 0 and ano % 100 == 0:\n",
    "    print(f\"El {ano} es bisiesto.\")\n",
    "else:\n",
    "    print(f\"El {ano} no es bisiesto.\")\n",
    "\n",
    "\n",
    "#     # Un año es bisiesto si es divisible por 4\n",
    "#     # Pero no es bisiesto si es divisible por 100, excepto si también es divisible por 400\n",
    "#     if (anio % 4 == 0 and anio % 100 != 0) or (anio % 400 == 0):\n",
    "#         return True\n",
    "#     else:\n",
    "#         return False\n",
    "\n",
    "\n"
   ]
  },
  {
   "cell_type": "markdown",
   "metadata": {},
   "source": [
    "8. Asignar una categoría a una edad\n",
    "\n",
    "- **Descripción:** Dada una edad, asigna una categoría según las siguientes condiciones: si la edad es menor de 18, la categoría es \"Menor de edad\"; si la edad está entre 18 y 64 (incluyendo ambos), la categoría es \"Adulto\"; de lo contrario, la categoría es \"Adulto mayor\"."
   ]
  },
  {
   "cell_type": "code",
   "execution_count": 1,
   "metadata": {},
   "outputs": [
    {
     "name": "stdout",
     "output_type": "stream",
     "text": [
      "La categoría es: Adulto\n"
     ]
    }
   ],
   "source": [
    "edad = 25\n",
    "\n",
    "if edad < 18:\n",
    "    categoria = \"Menor de edad\"\n",
    "elif 18 <= edad <= 64:\n",
    "    categoria = \"Adulto\"\n",
    "else:\n",
    "    categoria = \"Adulto mayor\"\n",
    "\n",
    "print(\"La categoría es:\", categoria)\n"
   ]
  },
  {
   "cell_type": "markdown",
   "metadata": {},
   "source": [
    "9. Verificar si tres números forman un triángulo rectángulo\n",
    "\n",
    "- **Descripción:** Dados tres números, verifica si forman un triángulo rectángulo (si se cumple el teorema de Pitágoras)."
   ]
  },
  {
   "cell_type": "code",
   "execution_count": null,
   "metadata": {},
   "outputs": [],
   "source": []
  },
  {
   "cell_type": "markdown",
   "metadata": {},
   "source": [
    "10. Asignar una calificación a una puntuación\n",
    "\n",
    "- **Descripción:** Dada una puntuación, asigna una calificación según las siguientes condiciones: si la puntuación es mayor o igual a 90, la calificación es \"A\"; si es mayor o igual a 80, la calificación es \"B\"; si es mayor o igual a 70, la calificación es \"C\"; si es mayor o igual a 60, la calificación es \"D\"; de lo contrario, la calificación es \"F\"."
   ]
  },
  {
   "cell_type": "code",
   "execution_count": 2,
   "metadata": {},
   "outputs": [
    {
     "name": "stdout",
     "output_type": "stream",
     "text": [
      "La calificación es: B\n"
     ]
    }
   ],
   "source": [
    "puntuacion = 85\n",
    "\n",
    "if puntuacion >= 90:\n",
    "    calificacion = \"A\"\n",
    "elif puntuacion >= 80:\n",
    "    calificacion = \"B\"\n",
    "elif puntuacion >= 70:\n",
    "    calificacion = \"C\"\n",
    "elif puntuacion >= 60:\n",
    "    calificacion = \"D\"\n",
    "else:\n",
    "    calificacion = \"F\"\n",
    "\n",
    "print(\"La calificación es:\", calificacion)\n"
   ]
  },
  {
   "cell_type": "markdown",
   "metadata": {},
   "source": [
    "11. Calcular el índice de masa corporal (IMC) y categorizarlo\n",
    "\n",
    "- **Descripción:** Dados el peso (en kg) y la altura (en metros) de una persona, calcula su IMC y categorízalo según las siguientes condiciones: si el IMC es menor a 18.5, es \"Bajo peso\"; si está entre 18.5 y 24.9 (inclusive), es \"Peso normal\"; si está entre 25 y 29.9 (inclusive), es \"Sobrepeso\"; de lo contrario, es \"Obesidad\"."
   ]
  },
  {
   "cell_type": "code",
   "execution_count": null,
   "metadata": {},
   "outputs": [],
   "source": []
  },
  {
   "cell_type": "markdown",
   "metadata": {},
   "source": [
    "12. Calcular el mayor de tres números\n",
    "\n",
    "- **Descripción:** Dados tres números, encuentra el mayor entre ellos."
   ]
  },
  {
   "cell_type": "code",
   "execution_count": 3,
   "metadata": {},
   "outputs": [
    {
     "name": "stdout",
     "output_type": "stream",
     "text": [
      "El mayor de los tres números es: 78\n"
     ]
    }
   ],
   "source": [
    "num1 = 45\n",
    "num2 = 78\n",
    "num3 = 62\n",
    "\n",
    "if num1 >= num2 and num1 >= num3:\n",
    "    mayor = num1\n",
    "elif num2 >= num1 and num2 >= num3:\n",
    "    mayor = num2\n",
    "else:\n",
    "    mayor = num3\n",
    "\n",
    "# Imprimir el número mayor\n",
    "print(\"El mayor de los tres números es:\", mayor)\n"
   ]
  },
  {
   "cell_type": "markdown",
   "metadata": {},
   "source": [
    "13. **BONUS** sentencias de control: Verificar la validez de una fecha\n",
    "\n",
    "- **Descripción:** Dados el día, el mes y el año de una fecha, verifica si la fecha es válida."
   ]
  },
  {
   "cell_type": "code",
   "execution_count": null,
   "metadata": {},
   "outputs": [],
   "source": []
  },
  {
   "cell_type": "markdown",
   "metadata": {},
   "source": [
    "## Ejercicios while\n",
    "\n",
    "1. Calcular la suma de los primeros 10 números naturales utilizando un bucle `while`.\n",
    "\n",
    "- **Descripción:** Utiliza un bucle `while` para calcular la suma de los primeros 10 números naturales (1 + 2 + 3 + ... + 10)."
   ]
  },
  {
   "cell_type": "code",
   "execution_count": null,
   "metadata": {},
   "outputs": [],
   "source": []
  },
  {
   "cell_type": "markdown",
   "metadata": {},
   "source": [
    "2. Juego de adivinanza utilizando un bucle `while`\n",
    "\n",
    "- **Descripción:** Crea un juego de adivinanza en el que el jugador tiene que adivinar un número secreto (tendrá que ser entre el 0 y el 10). Utiliza un bucle `while` para permitir múltiples intentos hasta que el jugador adivine correctamente."
   ]
  },
  {
   "cell_type": "code",
   "execution_count": 5,
   "metadata": {},
   "outputs": [
    {
     "name": "stdout",
     "output_type": "stream",
     "text": [
      "¡Bienvenido al juego de adivinanza!\n",
      "Adivina el número secreto entre 0 y 10.\n",
      "Incorrecto, 1 no es el número secreto. Inténtalo de nuevo.\n",
      "Incorrecto, 2 no es el número secreto. Inténtalo de nuevo.\n",
      "Incorrecto, 3 no es el número secreto. Inténtalo de nuevo.\n",
      "Incorrecto, 4 no es el número secreto. Inténtalo de nuevo.\n",
      "Incorrecto, 5 no es el número secreto. Inténtalo de nuevo.\n",
      "Incorrecto, 6 no es el número secreto. Inténtalo de nuevo.\n",
      "Incorrecto, 7 no es el número secreto. Inténtalo de nuevo.\n",
      "Incorrecto, 8 no es el número secreto. Inténtalo de nuevo.\n",
      "Incorrecto, 9 no es el número secreto. Inténtalo de nuevo.\n",
      "Incorrecto, 10 no es el número secreto. Inténtalo de nuevo.\n",
      "¡Felicidades! Has adivinado el número secreto: 0.\n",
      "Gracias por jugar.\n"
     ]
    }
   ],
   "source": [
    "import random\n",
    "\n",
    "numero_secreto = random.randint(0, 10)\n",
    "\n",
    "adivinado = False\n",
    "\n",
    "print(\"¡Bienvenido al juego de adivinanza!\")\n",
    "print(\"Adivina el número secreto entre 0 y 10.\")\n",
    "\n",
    "while not adivinado:\n",
    "    intento = int(input(\"Introduce tu adivinanza: \"))\n",
    "    \n",
    "    if intento == numero_secreto:\n",
    "        print(f\"¡Felicidades! Has adivinado el número secreto: {intento}.\")\n",
    "        adivinado = True\n",
    "    else:\n",
    "        print(f\"Incorrecto, {intento} no es el número secreto. Inténtalo de nuevo.\")\n",
    "\n",
    "print(\"Gracias por jugar.\")\n"
   ]
  }
 ],
 "metadata": {
  "kernelspec": {
   "display_name": "base",
   "language": "python",
   "name": "python3"
  },
  "language_info": {
   "codemirror_mode": {
    "name": "ipython",
    "version": 3
   },
   "file_extension": ".py",
   "mimetype": "text/x-python",
   "name": "python",
   "nbconvert_exporter": "python",
   "pygments_lexer": "ipython3",
   "version": "3.11.9"
  }
 },
 "nbformat": 4,
 "nbformat_minor": 2
}
