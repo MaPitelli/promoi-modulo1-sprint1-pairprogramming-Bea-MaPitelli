{
 "cells": [
  {
   "cell_type": "markdown",
   "metadata": {},
   "source": [
    "# Ejericios bucles for\n",
    "\n",
    "1. Imprimir los números del 1 al 5 utilizando un bucle `for`\n",
    "\n",
    "- **Descripción:** Utiliza un bucle `for` para imprimir los números del 1 al 5 (incluido) en orden ascendente."
   ]
  },
  {
   "cell_type": "code",
   "execution_count": 1,
   "metadata": {},
   "outputs": [
    {
     "name": "stdout",
     "output_type": "stream",
     "text": [
      "Los números son: 1\n",
      "Los números son: 2\n",
      "Los números son: 3\n",
      "Los números son: 4\n",
      "Los números son: 5\n"
     ]
    }
   ],
   "source": [
    "numeros = [1, 2, 3, 4, 5]\n",
    "\n",
    "for numero in numeros:\n",
    "    print(f\"Los números son: {numero}\")"
   ]
  },
  {
   "cell_type": "markdown",
   "metadata": {},
   "source": [
    "2. Calcular la suma de los primeros 10 números naturales utilizando un bucle `for`\n",
    "\n",
    "- **Descripción:** Utiliza un bucle `for` para calcular la suma de los primeros 10 números naturales (1 + 2 + 3 + ... + 10)."
   ]
  },
  {
   "cell_type": "code",
   "execution_count": 2,
   "metadata": {},
   "outputs": [
    {
     "name": "stdout",
     "output_type": "stream",
     "text": [
      "La suma de los primeros 10 números naturales es: 55\n"
     ]
    }
   ],
   "source": [
    "suma = 0\n",
    "\n",
    "for numero in range(1, 11):\n",
    "    suma += numero\n",
    "\n",
    "print(\"La suma de los primeros 10 números naturales es:\", suma)\n"
   ]
  },
  {
   "cell_type": "markdown",
   "metadata": {},
   "source": [
    "3. Calcular el producto de los elementos de una lista\n",
    "\n",
    "- **Descripción:** Dada una lista de números, utiliza un bucle `for` para calcular el producto de todos los elementos."
   ]
  },
  {
   "cell_type": "code",
   "execution_count": 3,
   "metadata": {},
   "outputs": [
    {
     "name": "stdout",
     "output_type": "stream",
     "text": [
      "El producto de la lusta de números es: 120\n"
     ]
    }
   ],
   "source": [
    "# Uso la lista del ejercicio 1\n",
    "# Defino el producto para que empiece por el uno.\n",
    "producto = 1\n",
    "\n",
    "for numero in numeros:\n",
    "    producto *= numero\n",
    "\n",
    "print(f\"El producto de la lusta de números es: {producto}\")"
   ]
  },
  {
   "cell_type": "markdown",
   "metadata": {},
   "source": [
    "4. Imprimir los caracteres de una cadena de texto\n",
    "\n",
    "- **Descripción:** Dada una cadena de texto, utiliza un bucle `for` para imprimir cada carácter en una línea separada"
   ]
  },
  {
   "cell_type": "code",
   "execution_count": 4,
   "metadata": {},
   "outputs": [
    {
     "name": "stdout",
     "output_type": "stream",
     "text": [
      "H\n",
      "o\n",
      "l\n",
      "a\n",
      ",\n",
      " \n",
      "B\n",
      "e\n",
      "a\n",
      "!\n",
      "!\n"
     ]
    }
   ],
   "source": [
    "cadena = \"Hola, Bea!!\"\n",
    "\n",
    "for caracter in cadena:\n",
    "    print(caracter)\n"
   ]
  },
  {
   "cell_type": "markdown",
   "metadata": {},
   "source": [
    "5. Imprimir los números pares del 1 al 100 utilizando un bucle `for`\n",
    "\n",
    "- **Descripción:** Utiliza un bucle `for` para imprimir los números pares del 1 al 100 en orden ascendente."
   ]
  },
  {
   "cell_type": "code",
   "execution_count": 5,
   "metadata": {},
   "outputs": [
    {
     "name": "stdout",
     "output_type": "stream",
     "text": [
      "2\n",
      "4\n",
      "6\n",
      "8\n",
      "10\n",
      "12\n",
      "14\n",
      "16\n",
      "18\n",
      "20\n",
      "22\n",
      "24\n",
      "26\n",
      "28\n",
      "30\n",
      "32\n",
      "34\n",
      "36\n",
      "38\n",
      "40\n",
      "42\n",
      "44\n",
      "46\n",
      "48\n",
      "50\n",
      "52\n",
      "54\n",
      "56\n",
      "58\n",
      "60\n",
      "62\n",
      "64\n",
      "66\n",
      "68\n",
      "70\n",
      "72\n",
      "74\n",
      "76\n",
      "78\n",
      "80\n",
      "82\n",
      "84\n",
      "86\n",
      "88\n",
      "90\n",
      "92\n",
      "94\n",
      "96\n",
      "98\n",
      "100\n"
     ]
    }
   ],
   "source": [
    "for num in range(1, 101): # Uso el range para determinar el rango de los números sin necesidad de listas. Uso el 101 para que me incluya el 100.\n",
    "    # Los números pares se determinan si pueden dividirse entre 2 y que de 0. Así que uso un if que ya lo vimos para determinarlo.\n",
    "    if num % 2 == 0:\n",
    "        print(num)"
   ]
  },
  {
   "cell_type": "markdown",
   "metadata": {},
   "source": [
    "6. Imprimir los números primos del 1 al 50 utilizando un bucle `for`\n",
    "\n",
    "- **Descripción:** Utiliza un bucle `for` para imprimir los números primos del 1 al 50 en orden ascendente.\n",
    "- **NOTA:** Según la Wikipedia, un número primo es un número natural mayor que 1 que no tiene divisores positivos más que 1 y él mismo."
   ]
  },
  {
   "cell_type": "code",
   "execution_count": 6,
   "metadata": {},
   "outputs": [
    {
     "name": "stdout",
     "output_type": "stream",
     "text": [
      "2\n",
      "3\n",
      "5\n",
      "7\n",
      "11\n",
      "13\n",
      "17\n",
      "19\n",
      "23\n",
      "29\n",
      "31\n",
      "37\n",
      "41\n",
      "43\n",
      "47\n"
     ]
    }
   ],
   "source": [
    "for num in range(1, 51):\n",
    "    # Un número menor o igual a 1 no es primo\n",
    "    if num > 1:\n",
    "        # Inicializar una variable para controlar si es primo\n",
    "        es_primo = True\n",
    "        # Comprobar si el número tiene divisores\n",
    "        for i in range(2, num):\n",
    "            if num % i == 0:\n",
    "                es_primo = False\n",
    "                break\n",
    "        # Si el número es primo, imprimirlo\n",
    "        if es_primo:\n",
    "            print(num)\n"
   ]
  },
  {
   "cell_type": "markdown",
   "metadata": {},
   "source": [
    "7. Calcular el factorial de un número utilizando un bucle `for`\n",
    "\n",
    "- **Descripción:** Dado un número entero positivo, calcula su factorial utilizando un bucle `for`."
   ]
  },
  {
   "cell_type": "code",
   "execution_count": 7,
   "metadata": {},
   "outputs": [
    {
     "name": "stdout",
     "output_type": "stream",
     "text": [
      "362880\n"
     ]
    }
   ],
   "source": [
    "# Factorial= es el prodcuto de todos los números enteros positivos desde 1 hasta el número del que deseas sacar el factorial.\n",
    "\n",
    "factorial = 1\n",
    "numero = 9\n",
    "\n",
    "for num in range(1, 10):\n",
    "    factorial *= num\n",
    "\n",
    "print(factorial)"
   ]
  },
  {
   "cell_type": "markdown",
   "metadata": {},
   "source": [
    "8. Juego de adivinar palabras utilizando un bucle `for`\n",
    "\n",
    "- **Descripción:** Crea un juego en el que el jugador debe adivinar una palabra secreta. El jugador tiene un número limitado de intentos y se le proporcionan pistas después de cada intento. Utiliza un bucle `for` para controlar los intentos del jugador."
   ]
  },
  {
   "cell_type": "code",
   "execution_count": 8,
   "metadata": {},
   "outputs": [
    {
     "name": "stdout",
     "output_type": "stream",
     "text": [
      "¡Bienvenido al juego de adivinar la palabra secreta!\n",
      "Tienes 5 intentos para adivinar la palabra correcta.\n",
      "Pista: La palabra secreta es un lenguaje de programación muy popular.\n",
      "Incorrecto. Inténtalo de nuevo.\n",
      "Pista 1: La palabra comienza con 'p' y termina con 'n'.\n",
      "¡Felicidades! ¡Has adivinado la palabra secreta!\n"
     ]
    }
   ],
   "source": [
    "palabra_secreta = \"python\"\n",
    "intentos = 5\n",
    "\n",
    "print(\"¡Bienvenido al juego de adivinar la palabra secreta!\")\n",
    "print(f\"Tienes {intentos} intentos para adivinar la palabra correcta.\")\n",
    "print(\"Pista: La palabra secreta es un lenguaje de programación muy popular.\")\n",
    "\n",
    "for intento in range(1, intentos + 1):\n",
    "    adivinanza = input(f\"Intento {intento}: \")\n",
    "\n",
    "    if adivinanza.lower() == palabra_secreta:\n",
    "        print(\"¡Felicidades! ¡Has adivinado la palabra secreta!\")\n",
    "        break\n",
    "    else:\n",
    "        if intento < intentos:\n",
    "            print(\"Incorrecto. Inténtalo de nuevo.\")\n",
    "            # Proporcionar una pista adicional (opcional)\n",
    "            if intento == 1:\n",
    "                print(\"Pista 1: La palabra comienza con 'p' y termina con 'n'.\")\n",
    "            elif intento == 2:\n",
    "                print(\"Pista 2: Tiene 6 letras.\")\n",
    "            elif intento == 3:\n",
    "                print(\"Pista 3: Es un lenguaje interpretado.\")\n",
    "            elif intento == 4:\n",
    "                print(\"Pista 4: Es ampliamente utilizado en ciencia de datos y aprendizaje automático.\")\n",
    "        else:\n",
    "            print(\"Lo siento, has agotado todos tus intentos. La palabra secreta era 'python'.\")\n"
   ]
  },
  {
   "cell_type": "markdown",
   "metadata": {},
   "source": [
    "# Ejercicios _list comprehension_\n",
    "\n",
    "1. Generar una lista de los números pares del 1 al 20.\n",
    "\n",
    "- **Descripción:** Utiliza list comprehension para generar una lista que contenga todos los números pares en el rango del 1 al 20."
   ]
  },
  {
   "cell_type": "code",
   "execution_count": 9,
   "metadata": {},
   "outputs": [
    {
     "name": "stdout",
     "output_type": "stream",
     "text": [
      "Los numeros pares son: [2, 4, 6, 8, 10, 12, 14, 16, 18, 20]\n"
     ]
    }
   ],
   "source": [
    "num_pares = [num for num in range(1, 21) if num % 2 == 0]\n",
    "\n",
    "print(f\"Los numeros pares son: {num_pares}\")"
   ]
  },
  {
   "cell_type": "markdown",
   "metadata": {},
   "source": [
    "2. Obtener una lista de las vocales en una cadena de texto.\n",
    "\n",
    "- **Descripción:** Utiliza list comprehension para crear una lista que contenga todas las vocales presentes en una cadena de texto (sin repetición)."
   ]
  },
  {
   "cell_type": "code",
   "execution_count": 10,
   "metadata": {},
   "outputs": [
    {
     "name": "stdout",
     "output_type": "stream",
     "text": [
      "Vocales encontradas: ['o', 'a', 'e']\n"
     ]
    }
   ],
   "source": [
    "cadena = \"Hola, ¿cómo estás hoy?\"\n",
    "vocales = ['a', 'e', 'i', 'o', 'u']\n",
    "\n",
    "vocales_encontradas = [vocal for vocal in cadena.lower() if vocal in vocales]\n",
    "\n",
    "vocales_unicas = list(dict.fromkeys(vocales_encontradas))\n",
    "\n",
    "print(\"Vocales encontradas:\", vocales_unicas)\n"
   ]
  },
  {
   "cell_type": "markdown",
   "metadata": {},
   "source": [
    "3. Filtrar los números positivos de una lista y calcular su cuadrado.\n",
    "\n",
    "- **Descripción:** Utiliza list comprehension para filtrar los números positivos de una lista y calcular el cuadrado de cada uno."
   ]
  },
  {
   "cell_type": "code",
   "execution_count": 11,
   "metadata": {},
   "outputs": [
    {
     "name": "stdout",
     "output_type": "stream",
     "text": [
      "Los numeros positivos son: [16, 9, 25]\n"
     ]
    }
   ],
   "source": [
    "lista = [-3, 4, -8, 3, 5, -12]\n",
    "\n",
    "# Primero calcula el cuadrado y luego los filtra por positivos\n",
    "num_positivos = [num **2 for num in lista if num > 0]\n",
    "\n",
    "print(f\"Los numeros positivos son: {num_positivos}\")"
   ]
  },
  {
   "cell_type": "markdown",
   "metadata": {},
   "source": [
    "# Ejercicios try ...except\n",
    "\n",
    "1. Realizar una búsqueda en una lista y capturar una excepción en caso de valor no encontrado.\n",
    "\n",
    "- **Descripción:** Solicita al usuario una lista de nombres y un nombre para buscar en la lista. Intenta encontrar el nombre en la lista y utiliza las sentencias `try` y `except` para capturar la excepción en caso de que el nombre no sea encontrado."
   ]
  },
  {
   "cell_type": "code",
   "execution_count": 12,
   "metadata": {},
   "outputs": [
    {
     "name": "stdout",
     "output_type": "stream",
     "text": [
      "Lucia no está en la lista.\n"
     ]
    }
   ],
   "source": [
    "try:\n",
    "    lista_nombres = input(\"Dime una lista de nombres separados por una coma porfavor:\")\n",
    "\n",
    "    nombre = input(\"Ahora dime otro nombre, esté o no en la lista:\")\n",
    "\n",
    "    if nombre in lista_nombres:\n",
    "        print(f\"{nombre} está en la lista.\")\n",
    "    else:\n",
    "        raise ValueError(f\"{nombre} no está en la lista.\")\n",
    "    \n",
    "# Tuve que buscar con chatgpt el excetp porque inicialmente no use el else y puse en el except el print de que el nombre no estaba. Pero no me printeaba nada. \n",
    "# Copio más abajo lo que me explicó\n",
    "except ValueError as error:\n",
    "    print(error)\n",
    "except Exception as error:\n",
    "    print(f\"Ocurrió un error inesperado: {error}\")\n",
    "\n",
    "# Si el nombre no está en la lista, se eleva una excepción ValueError con un mensaje indicando que el nombre no se encontró en la lista.\n",
    "# except ValueError as error:: Captura específicamente la excepción ValueError que ocurre cuando el nombre no está en la lista. Imprime el mensaje de error.\n",
    "# except Exception as error:: Captura cualquier otra excepción que pueda ocurrir durante la ejecución del bloque try. Imprime un mensaje genérico de error.\n",
    "\n"
   ]
  }
 ],
 "metadata": {
  "kernelspec": {
   "display_name": "base",
   "language": "python",
   "name": "python3"
  },
  "language_info": {
   "codemirror_mode": {
    "name": "ipython",
    "version": 3
   },
   "file_extension": ".py",
   "mimetype": "text/x-python",
   "name": "python",
   "nbconvert_exporter": "python",
   "pygments_lexer": "ipython3",
   "version": "3.11.7"
  }
 },
 "nbformat": 4,
 "nbformat_minor": 2
}
