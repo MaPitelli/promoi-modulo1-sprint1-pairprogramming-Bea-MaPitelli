{
 "cells": [
  {
   "cell_type": "markdown",
   "metadata": {},
   "source": [
    "# Ejercicios de listas\n",
    "En la leccion de hoy hemos aprendido que son las listas. Para seguir practicando con ellas, os planteamos los siguientes ejercicios que tendréis que resolver durante el tiempo de pair programming\n",
    "\n",
    "Duplicar elementos de una lista\n",
    "\n",
    "Descripción: Dada una lista de números, duplica cada elemento en la lista. Ejemplo:\n",
    "\n",
    "# dada la siguiente lista el output esperado es:\n",
    "lista = [2, 4, 6, 8]\n",
    "\n",
    "[2, 4, 6, 8, 2, 4, 6, 8]\n",
    "\n",
    "Combinar dos listas\n",
    "\n",
    "Descripción: Dadas dos listas, crea una nueva lista que contenga todos los elementos de ambas listas. Ejemplo:\n",
    "\n",
    "# dadas las siguientes listas el output esperado es:\n",
    "lista1 = [1, 2, 3]\n",
    "lista2 = [4, 5, 6]\n",
    "\n",
    "[1, 2, 3, 4, 5, 6]\n"
   ]
  }
 ],
 "metadata": {
  "kernelspec": {
   "display_name": "base",
   "language": "python",
   "name": "python3"
  },
  "language_info": {
   "codemirror_mode": {
    "name": "ipython",
    "version": 3
   },
   "file_extension": ".py",
   "mimetype": "text/x-python",
   "name": "python",
   "nbconvert_exporter": "python",
   "pygments_lexer": "ipython3",
   "version": "3.11.7"
  }
 },
 "nbformat": 4,
 "nbformat_minor": 2
}
