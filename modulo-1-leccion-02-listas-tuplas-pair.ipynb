{
 "cells": [
  {
   "cell_type": "markdown",
   "metadata": {},
   "source": [
    "# Pair programming: Listas y Tuplas\n",
    "\n",
    "## Ejercicios de listas\n",
    "\n",
    "En la lección de hoy hemos aprendido qué son las listas. Para seguir practicando con ellas, os planteamos los siguientes ejercicios que tendréis que resolver durante el tiempo de pair programming.\n",
    "\n",
    "### 1 - Duplicar elementos de una lista\n",
    "\n",
    "**Descripción:** Dada una lista de números, duplica cada elemento en la lista. \n",
    "\n",
    "**Ejemplo:**\n",
    "\n",
    "```python\n",
    "# dada la siguiente lista el output esperado es:\n",
    "lista = [2, 4, 6, 8]\n",
    "\n",
    "# output esperado:\n",
    "[2, 4, 6, 8, 2, 4, 6, 8]\n",
    "```\n",
    "\n"
   ]
  },
  {
   "cell_type": "code",
   "execution_count": 6,
   "metadata": {},
   "outputs": [
    {
     "name": "stdout",
     "output_type": "stream",
     "text": [
      "[2, 4, 6, 8, 2, 4, 6, 8]\n",
      "[2, 4, 6, 8, 2, 4, 6, 8]\n",
      "[2, 4, 6, 8, 2, 4, 6, 8]\n"
     ]
    }
   ],
   "source": [
    "lista = [2, 4, 6, 8]\n",
    "#Solución 1: no modifica la lista original\n",
    "lista1 = lista + lista\n",
    "print(lista1) \n",
    "#Solución 2: no modifica la lista original\n",
    "lista2 = lista * 2\n",
    "print(lista2) \n",
    "#Solución 3: modifica la lista original\n",
    "lista *= 2\n",
    "print(lista)"
   ]
  },
  {
   "cell_type": "markdown",
   "metadata": {},
   "source": [
    "### 2 - Combinar dos listas\n",
    "\n",
    "**Descripción:** Dadas dos listas, crea una nueva lista que contenga todos los elementos de ambas listas.\n",
    "\n",
    "**Ejemplo:**\n",
    "\n",
    "```python\n",
    "# dadas las siguientes listas el output esperado es:\n",
    "lista1 = [1, 2, 3]\n",
    "lista2 = [4, 5, 6]\n",
    "\n",
    "# output esperado:\n",
    "[1, 2, 3, 4, 5, 6]\n",
    "```"
   ]
  },
  {
   "cell_type": "code",
   "execution_count": 9,
   "metadata": {},
   "outputs": [
    {
     "name": "stdout",
     "output_type": "stream",
     "text": [
      "Sumando las 2 listas: [1, 2, 3, 4, 5, 6].\n"
     ]
    }
   ],
   "source": [
    "lista1 = [1, 2, 3]\n",
    "lista2 = [4, 5, 6]\n",
    "lista3 = lista1 + lista2\n",
    "\n",
    "print(f\"Sumando las 2 listas: {lista3}.\")\n",
    "# Los F-strings son una herramienta poderosa y versátil para formatear cadenas de texto en Python. \n",
    "# Su sintaxis simple y legible los convierte en una opción preferible a los métodos tradicionales de formateo.\n",
    "\n",
    "# lista3 = lista1.extend(lista2) >>> Esto retorna None, o sea, no se puede guardar el resultado del extend en una variable. El extend altera la variable original. "
   ]
  },
  {
   "cell_type": "markdown",
   "metadata": {},
   "source": [
    "### 3 - Calcular la suma de una lista de números\n",
    "\n",
    "**Descripción:** Dada una lista de números, calcula la suma de todos los elementos.\n"
   ]
  },
  {
   "cell_type": "code",
   "execution_count": 15,
   "metadata": {},
   "outputs": [
    {
     "name": "stdout",
     "output_type": "stream",
     "text": [
      "6\n",
      "6\n"
     ]
    }
   ],
   "source": [
    "suma = lista1[0] + lista1[1] + lista1[2]\n",
    "print(suma)\n",
    "\n",
    "suma2 = sum(lista1) # Esto aún no lo hemos visto, función sum() hace la suma de los elementos de un iterable. \n",
    "print(suma2)"
   ]
  },
  {
   "cell_type": "markdown",
   "metadata": {},
   "source": [
    "### 4 - Encontrar el valor máximo en una lista\n",
    "\n",
    "**Descripción:** Dada una lista de números, encuentra el valor máximo.\n"
   ]
  },
  {
   "cell_type": "code",
   "execution_count": 17,
   "metadata": {},
   "outputs": [
    {
     "name": "stdout",
     "output_type": "stream",
     "text": [
      "6\n"
     ]
    }
   ],
   "source": [
    "print(max(lista2))"
   ]
  },
  {
   "cell_type": "markdown",
   "metadata": {},
   "source": [
    "### 5 - Calcular la longitud de una lista\n",
    "\n",
    "**Descripción:** Dada una lista, calcula la cantidad de elementos que contiene.\n"
   ]
  },
  {
   "cell_type": "code",
   "execution_count": 18,
   "metadata": {},
   "outputs": [
    {
     "name": "stdout",
     "output_type": "stream",
     "text": [
      "3\n"
     ]
    }
   ],
   "source": [
    "print(len(lista2))"
   ]
  },
  {
   "cell_type": "markdown",
   "metadata": {},
   "source": [
    "### 6 - Encontrar el índice de un elemento en una lista\n",
    "\n",
    "**Descripción:** Dada una lista y un valor objetivo, encuentra el índice del primer elemento que coincida con el valor objetivo.\n"
   ]
  },
  {
   "cell_type": "code",
   "execution_count": 19,
   "metadata": {},
   "outputs": [
    {
     "name": "stdout",
     "output_type": "stream",
     "text": [
      "1\n"
     ]
    }
   ],
   "source": [
    "lista = [\"pera\", \"manzana\", \"platano\"]\n",
    "valor = \"manzana\"\n",
    "print(lista.index(\"manzana\"))"
   ]
  },
  {
   "cell_type": "markdown",
   "metadata": {},
   "source": [
    "### 7 - Contar ocurrencias de un elemento en una lista\n",
    "\n",
    "**Descripción:** Dada una lista y un valor objetivo, cuenta cuántas veces aparece el valor objetivo en la lista."
   ]
  },
  {
   "cell_type": "code",
   "execution_count": 23,
   "metadata": {},
   "outputs": [
    {
     "name": "stdout",
     "output_type": "stream",
     "text": [
      "2\n"
     ]
    }
   ],
   "source": [
    "lista = [1, 2, 3, 4, 5, 7, 3, 2, 4, 5, 1]\n",
    "valor = 3\n",
    "print(lista.count(valor))"
   ]
  },
  {
   "cell_type": "markdown",
   "metadata": {},
   "source": [
    "\n",
    "### 8 - Obtener una sublista de una lista\n",
    "\n",
    "**Descripción:** Dada una lista, crea una nueva lista que contenga los elementos desde el índice 2 hasta el índice 5 (sin incluirlo)."
   ]
  },
  {
   "cell_type": "code",
   "execution_count": 26,
   "metadata": {},
   "outputs": [
    {
     "name": "stdout",
     "output_type": "stream",
     "text": [
      "[5, 2, 6]\n"
     ]
    }
   ],
   "source": [
    "lista = [1, 3, 5, 2, 6, 8, 8, 10, 15, 12, 13]\n",
    "lista2 = lista[2:5]\n",
    "print(lista2)"
   ]
  },
  {
   "cell_type": "markdown",
   "metadata": {},
   "source": [
    "### 9 - Obtener el último elemento de una lista\n",
    "\n",
    "**Descripción:** Dada una lista, obtén el último elemento."
   ]
  },
  {
   "cell_type": "code",
   "execution_count": 28,
   "metadata": {},
   "outputs": [
    {
     "name": "stdout",
     "output_type": "stream",
     "text": [
      "13\n"
     ]
    }
   ],
   "source": [
    "print(lista[-1])"
   ]
  },
  {
   "cell_type": "markdown",
   "metadata": {},
   "source": [
    "### 10 - Obtener una sublista de una lista\n",
    "\n",
    "**Descripción:** Dada una lista, obtén una sublista que contenga los elementos desde el índice 1 hasta el índice 3 (sin incluirlo)."
   ]
  },
  {
   "cell_type": "code",
   "execution_count": null,
   "metadata": {},
   "outputs": [],
   "source": []
  },
  {
   "cell_type": "markdown",
   "metadata": {},
   "source": [
    "### 11 - Reemplazar un elemento en una lista\n",
    "\n",
    "**Descripción:** Dada una lista, reemplaza el segundo elemento con un nuevo valor."
   ]
  },
  {
   "cell_type": "code",
   "execution_count": null,
   "metadata": {},
   "outputs": [],
   "source": []
  },
  {
   "cell_type": "markdown",
   "metadata": {},
   "source": [
    "### 12 - Obtener una lista inversa\n",
    "\n",
    "**Descripción:** Dada una lista, obtén una nueva lista que contenga los elementos en orden inverso."
   ]
  },
  {
   "cell_type": "code",
   "execution_count": null,
   "metadata": {},
   "outputs": [],
   "source": []
  },
  {
   "cell_type": "markdown",
   "metadata": {},
   "source": [
    "\n",
    "### 13 - Ordenar una lista en orden ascendente\n",
    "\n",
    "**Descripción:** Dada una lista de números, ordénala en orden ascendente."
   ]
  },
  {
   "cell_type": "code",
   "execution_count": null,
   "metadata": {},
   "outputs": [],
   "source": []
  },
  {
   "cell_type": "markdown",
   "metadata": {},
   "source": [
    "### BONUS\n"
   ]
  },
  {
   "cell_type": "markdown",
   "metadata": {},
   "source": [
    "#### 14 - Obtener elementos pares de una lista\n",
    "\n",
    "**Descripción:** Dada una lista, obtén una nueva lista que contenga solo los elementos en posiciones pares."
   ]
  },
  {
   "cell_type": "code",
   "execution_count": null,
   "metadata": {},
   "outputs": [],
   "source": []
  },
  {
   "cell_type": "markdown",
   "metadata": {},
   "source": [
    "#### 15 - Obtener una sublista saltando elementos\n",
    "\n",
    "**Descripción:** Dada una lista, obtén una sublista que contenga los elementos saltando de 3 en 3."
   ]
  },
  {
   "cell_type": "code",
   "execution_count": null,
   "metadata": {},
   "outputs": [],
   "source": []
  },
  {
   "cell_type": "markdown",
   "metadata": {},
   "source": [
    "#### 16 - Encontrar el segundo valor máximo en una lista\n",
    "\n",
    "**Descripción:** Dada una lista de números, encuentra el segundo valor máximo."
   ]
  },
  {
   "cell_type": "code",
   "execution_count": null,
   "metadata": {},
   "outputs": [],
   "source": []
  },
  {
   "cell_type": "markdown",
   "metadata": {},
   "source": [
    "### 17 - Teórico. Deberéis contestar la pregunta en una celda de markdown.\n",
    "\n",
    "**Descripción:** ¿Qué diferencia existe entre el `.sort()` y el `sorted()`?"
   ]
  },
  {
   "cell_type": "code",
   "execution_count": null,
   "metadata": {},
   "outputs": [],
   "source": []
  },
  {
   "cell_type": "markdown",
   "metadata": {},
   "source": [
    "### 18 - Agregar elementos a una lista utilizando `append` y `extend`\n",
    "\n",
    "**Descripción:** Dada una lista inicial, agrega nuevos elementos utilizando tanto `append` como `extend` y observa las diferencias en el resultado final. El elemento que deberéis usar para añadir a la lista original tiene que ser una lista."
   ]
  },
  {
   "cell_type": "code",
   "execution_count": null,
   "metadata": {},
   "outputs": [],
   "source": []
  },
  {
   "cell_type": "markdown",
   "metadata": {},
   "source": [
    "### 19 - Insertar un elemento en una posición específica\n",
    "\n",
    "**Descripción:** Dada una lista, inserta un nuevo elemento en una posición específica determinada por el usuario (deberéis usar la función `input` para preguntar al usuario en qué posición quiere insertar el elemento)."
   ]
  },
  {
   "cell_type": "code",
   "execution_count": null,
   "metadata": {},
   "outputs": [],
   "source": []
  },
  {
   "cell_type": "markdown",
   "metadata": {},
   "source": [
    "### 20 - Verificar si un elemento está presente en una lista\n",
    "\n",
    "**Descripción:** Dada una lista, verifica si un elemento específico está presente en ella. Igual que el caso anterior, deberéis preguntar al usuario qué elemento quiere buscar en la lista. El resultado deberá ser `True` o `False`."
   ]
  },
  {
   "cell_type": "code",
   "execution_count": null,
   "metadata": {},
   "outputs": [],
   "source": []
  },
  {
   "cell_type": "markdown",
   "metadata": {},
   "source": [
    "### 21 - Manipulación de una lista utilizando `remove()`, `pop()` y `clear()`\n",
    "\n",
    "**Descripción:** Crea una lista inicial, realiza operaciones de eliminación y limpieza utilizando los métodos `remove()`, `pop()` y `clear()`, y observa cómo afectan a la lista."
   ]
  },
  {
   "cell_type": "code",
   "execution_count": null,
   "metadata": {},
   "outputs": [],
   "source": []
  },
  {
   "cell_type": "markdown",
   "metadata": {},
   "source": [
    "## Ejercicios de tuplas"
   ]
  },
  {
   "cell_type": "markdown",
   "metadata": {},
   "source": [
    "\n",
    "### 1 - Acceder al primer elemento de una tupla\n",
    "\n",
    "**Descripción:** Dada una tupla, obtén el primer elemento."
   ]
  },
  {
   "cell_type": "code",
   "execution_count": null,
   "metadata": {},
   "outputs": [],
   "source": []
  },
  {
   "cell_type": "markdown",
   "metadata": {},
   "source": [
    "\n",
    "\n",
    "### 2 - Acceder al último elemento de una tupla\n",
    "\n",
    "**Descripción:** Dada una tupla, obtén el último elemento."
   ]
  },
  {
   "cell_type": "code",
   "execution_count": null,
   "metadata": {},
   "outputs": [],
   "source": []
  },
  {
   "cell_type": "markdown",
   "metadata": {},
   "source": [
    "### 3 - Obtener la longitud de una tupla\n",
    "\n",
    "**Descripción:** Dada una tupla, obtén la cantidad de elementos que contiene."
   ]
  },
  {
   "cell_type": "code",
   "execution_count": null,
   "metadata": {},
   "outputs": [],
   "source": []
  },
  {
   "cell_type": "markdown",
   "metadata": {},
   "source": [
    "\n",
    "### 4 - Concatenar dos tuplas\n",
    "\n",
    "**Descripción:** Dadas dos tuplas, crea una nueva tupla que contenga todos los elementos de ambas tuplas."
   ]
  },
  {
   "cell_type": "code",
   "execution_count": null,
   "metadata": {},
   "outputs": [],
   "source": []
  },
  {
   "cell_type": "markdown",
   "metadata": {},
   "source": [
    "### 5 - Encontrar el índice de un elemento en una tupla\n",
    "\n",
    "**Descripción:** Dada una tupla y un valor objetivo, encuentra el índice del primer elemento que coincida con el valor objetivo."
   ]
  },
  {
   "cell_type": "code",
   "execution_count": null,
   "metadata": {},
   "outputs": [],
   "source": []
  },
  {
   "cell_type": "markdown",
   "metadata": {},
   "source": [
    "\n",
    "### 6 - Contar ocurrencias de un elemento en una tupla\n",
    "\n",
    "**Descripción:** Dada una tupla y un valor objetivo, cuenta cuántas veces aparece el valor objetivo en la tupla."
   ]
  },
  {
   "cell_type": "code",
   "execution_count": null,
   "metadata": {},
   "outputs": [],
   "source": []
  },
  {
   "cell_type": "markdown",
   "metadata": {},
   "source": [
    "\n",
    "### 7 - Obtener una subtuple de una tupla\n",
    "\n",
    "**Descripción:** Dada una tupla, crea una nueva tupla que contenga los elementos desde el índice 1 hasta el índice 3 (sin incluirlo)."
   ]
  },
  {
   "cell_type": "code",
   "execution_count": null,
   "metadata": {},
   "outputs": [],
   "source": []
  },
  {
   "cell_type": "markdown",
   "metadata": {},
   "source": [
    "### 8 - Invertir una tupla\n",
    "\n",
    "**Descripción:** Dada una tupla, inviértela en orden."
   ]
  },
  {
   "cell_type": "code",
   "execution_count": null,
   "metadata": {},
   "outputs": [],
   "source": []
  }
 ],
 "metadata": {
  "kernelspec": {
   "display_name": "base",
   "language": "python",
   "name": "python3"
  },
  "language_info": {
   "codemirror_mode": {
    "name": "ipython",
    "version": 3
   },
   "file_extension": ".py",
   "mimetype": "text/x-python",
   "name": "python",
   "nbconvert_exporter": "python",
   "pygments_lexer": "ipython3",
   "version": "3.11.7"
  }
 },
 "nbformat": 4,
 "nbformat_minor": 2
}
