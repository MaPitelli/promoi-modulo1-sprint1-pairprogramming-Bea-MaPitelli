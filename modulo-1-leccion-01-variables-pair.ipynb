{
 "cells": [
  {
   "cell_type": "markdown",
   "metadata": {},
   "source": [
    "## Variables\n",
    "\n",
    "Cread tres variables numéricas de tipo integer (entero), llamadas de la siguiente forma:\n",
    "\n",
    "numero1\n",
    "\n",
    "numero2\n",
    "\n",
    "numero3"
   ]
  },
  {
   "cell_type": "code",
   "execution_count": 1,
   "metadata": {},
   "outputs": [],
   "source": [
    "# Esto es una asignación simultanea de variables.\n",
    "numero1 = numero2 = numero3 = 0"
   ]
  },
  {
   "cell_type": "markdown",
   "metadata": {},
   "source": [
    "### Utilizando los operadores lógicos:\n",
    "\n",
    "En vuestro caso, es el numero1 mayor que el numero2\n",
    "\n",
    "Es el numero1 menor que el numero2 pero mayor que el numero3\n",
    "\n",
    "Es el numero3 igual que el numero2\n",
    "\n",
    "Es el numero2 distinto que el numero1"
   ]
  },
  {
   "cell_type": "code",
   "execution_count": 2,
   "metadata": {},
   "outputs": [
    {
     "data": {
      "text/plain": [
       "False"
      ]
     },
     "execution_count": 2,
     "metadata": {},
     "output_type": "execute_result"
    }
   ],
   "source": [
    "numero1 > numero2"
   ]
  },
  {
   "cell_type": "code",
   "execution_count": 3,
   "metadata": {},
   "outputs": [
    {
     "data": {
      "text/plain": [
       "True"
      ]
     },
     "execution_count": 3,
     "metadata": {},
     "output_type": "execute_result"
    }
   ],
   "source": [
    "numero3 == numero2"
   ]
  },
  {
   "cell_type": "code",
   "execution_count": 4,
   "metadata": {},
   "outputs": [
    {
     "data": {
      "text/plain": [
       "False"
      ]
     },
     "execution_count": 4,
     "metadata": {},
     "output_type": "execute_result"
    }
   ],
   "source": [
    "numero2 != numero1"
   ]
  },
  {
   "cell_type": "markdown",
   "metadata": {},
   "source": [
    "### Cread dos variables numéricas de tipo float (decimal) con dos decimales, llamdas de la siguiente forma:\n",
    "\n",
    "altura1\n",
    "\n",
    "altura2\n",
    "\n",
    "### Utilizando los operadores matemáticos aprendidos en la lección:\n",
    "\n",
    "Cuál es la suma de las dos alturas\n",
    "\n",
    "Cuál es la diferencia entre las alturas\n",
    "\n",
    "Cuál es el resto de la división de las dos alturas\n",
    "\n",
    "Cuál es resultado de la división de las dos alturas, redondead el resultado a un decimal."
   ]
  },
  {
   "cell_type": "code",
   "execution_count": 7,
   "metadata": {},
   "outputs": [],
   "source": [
    "altura1 = 3.75\n",
    "altura2 = 2.50"
   ]
  },
  {
   "cell_type": "code",
   "execution_count": 8,
   "metadata": {},
   "outputs": [
    {
     "name": "stdout",
     "output_type": "stream",
     "text": [
      "La suma de las dos alturas es: 6.25\n",
      "La diferencia entre las dos alturas es: 1.25\n",
      "El resto de la división de las dos alturas es: 1.25\n",
      "El resultado de la división de las dos alturas redondeado es: 1.5\n"
     ]
    }
   ],
   "source": [
    "print('La suma de las dos alturas es:', altura1 + altura2)\n",
    "print('La diferencia entre las dos alturas es:', altura1 - altura2)\n",
    "print('El resto de la división de las dos alturas es:', altura1 % altura2)\n",
    "print('El resultado de la división de las dos alturas redondeado es:', round(altura1 / altura2, 1))"
   ]
  },
  {
   "cell_type": "markdown",
   "metadata": {},
   "source": [
    "Escribid un programa usando la función input() que le pregunte al usuario su nombre y apellidos. Una vez que tengamos el nombre del usuario:\n",
    "\n",
    "- Printead su nombre y apellidos todo en mayúsculas\n",
    "\n",
    "- Printead su nombre y apellidos todo en minúsculas\n",
    "\n",
    "- Printead su nombre y apellidos con la primera letra del nombre y los apellidos en mayúscula y el resto en minúscula.\n",
    "\n",
    "- Printeas solo la primera letra del nombre en mayúscula."
   ]
  },
  {
   "cell_type": "code",
   "execution_count": 4,
   "metadata": {},
   "outputs": [],
   "source": [
    "nombre = input(\"Dime tu nombre\")\n",
    "\n",
    "apellidos = input(\"Dime tus apellidos\")"
   ]
  },
  {
   "cell_type": "code",
   "execution_count": 7,
   "metadata": {},
   "outputs": [
    {
     "name": "stdout",
     "output_type": "stream",
     "text": [
      "BEA DIAZ\n"
     ]
    }
   ],
   "source": [
    "nombre_completo = nombre + \" \" + apellidos\n",
    "print( nombre_completo.upper())"
   ]
  },
  {
   "cell_type": "code",
   "execution_count": 8,
   "metadata": {},
   "outputs": [
    {
     "name": "stdout",
     "output_type": "stream",
     "text": [
      "bea diaz\n"
     ]
    }
   ],
   "source": [
    "print( nombre_completo.lower())"
   ]
  },
  {
   "cell_type": "code",
   "execution_count": 9,
   "metadata": {},
   "outputs": [
    {
     "name": "stdout",
     "output_type": "stream",
     "text": [
      "Bea Diaz\n"
     ]
    }
   ],
   "source": [
    "print( nombre_completo.title())"
   ]
  },
  {
   "cell_type": "code",
   "execution_count": 10,
   "metadata": {},
   "outputs": [
    {
     "name": "stdout",
     "output_type": "stream",
     "text": [
      "Bea diaz\n"
     ]
    }
   ],
   "source": [
    "print( nombre_completo.capitalize())"
   ]
  },
  {
   "cell_type": "markdown",
   "metadata": {},
   "source": [
    "Escribid un programa usando la función input() que:\n",
    "\n",
    "- Le pregunte al usuario por una frase, almacenad este resultado en una variable.\n",
    "\n",
    "- Le pregunte al usuario por una vocal, almacenad este resultado en una variable.\n",
    "\n",
    "- Printead la misma frase pero con la vocal introducida en mayúsulas."
   ]
  },
  {
   "cell_type": "code",
   "execution_count": 20,
   "metadata": {},
   "outputs": [],
   "source": [
    "frase = input(\"Dime una frase\")\n",
    "vocal = input(\"Dime una vocal\")"
   ]
  },
  {
   "cell_type": "code",
   "execution_count": 25,
   "metadata": {},
   "outputs": [
    {
     "name": "stdout",
     "output_type": "stream",
     "text": [
      "holA que tAl\n"
     ]
    }
   ],
   "source": [
    "print(frase.replace(\"a\", vocal.upper()))"
   ]
  },
  {
   "cell_type": "markdown",
   "metadata": {},
   "source": [
    "Escribid un programa usando la función input() que:\n",
    "\n",
    "- Le pregunte al usuario por la lista de la compra, separando cada elemento por comas.\n",
    "\n",
    "- Devolved la lista de compra donde veamos cada elemento en una línea."
   ]
  },
  {
   "cell_type": "code",
   "execution_count": 33,
   "metadata": {},
   "outputs": [],
   "source": [
    "lista_compra = input(\"Dime la lista de la compra separado por comas\")"
   ]
  },
  {
   "cell_type": "code",
   "execution_count": 37,
   "metadata": {},
   "outputs": [
    {
     "data": {
      "text/plain": [
       "['leche, manteca, pan, chorizo']"
      ]
     },
     "execution_count": 37,
     "metadata": {},
     "output_type": "execute_result"
    }
   ],
   "source": [
    "# no lo pillo\n",
    "lista_separada = lista_compra.split(\"\\n\")\n",
    "lista_separada"
   ]
  },
  {
   "cell_type": "markdown",
   "metadata": {},
   "source": [
    "Probando cambio para Git"
   ]
  },
  {
   "cell_type": "markdown",
   "metadata": {},
   "source": []
  }
 ],
 "metadata": {
  "kernelspec": {
   "display_name": "base",
   "language": "python",
   "name": "python3"
  },
  "language_info": {
   "codemirror_mode": {
    "name": "ipython",
    "version": 3
   },
   "file_extension": ".py",
   "mimetype": "text/x-python",
   "name": "python",
   "nbconvert_exporter": "python",
   "pygments_lexer": "ipython3",
   "version": "3.11.7"
  }
 },
 "nbformat": 4,
 "nbformat_minor": 2
}
